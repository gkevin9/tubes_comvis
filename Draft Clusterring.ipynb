{
 "cells": [
  {
   "cell_type": "code",
   "execution_count": 1,
   "metadata": {},
   "outputs": [],
   "source": [
    "# Dependencies\n",
    "\n",
    "# import pandas as pd\n",
    "import numpy as np\n",
    "# from sklearn.cluster import KMeans\n",
    "# from sklearn.preprocessing import LabelEncoder\n",
    "# from sklearn.preprocessing import MinMaxScaler\n",
    "# import seaborn as sns\n",
    "import matplotlib.pyplot as plt\n",
    "import cv2\n",
    "from sklearn.cluster import KMeans\n",
    "import pickle5 as pickle"
   ]
  },
  {
   "cell_type": "markdown",
   "metadata": {},
   "source": [
    "Create Sift"
   ]
  },
  {
   "cell_type": "code",
   "execution_count": 2,
   "metadata": {},
   "outputs": [],
   "source": [
    "img = cv2.imread(\"image/asus_icon.png\")\n",
    "sift = cv2.xfeatures2d.SIFT_create()"
   ]
  },
  {
   "cell_type": "markdown",
   "metadata": {},
   "source": [
    "Nyari fitur key point"
   ]
  },
  {
   "cell_type": "code",
   "execution_count": 3,
   "metadata": {},
   "outputs": [],
   "source": [
    "keypoints_sift, descriptors = sift.detectAndCompute(img, None)\n",
    "\n",
    "img = cv2.drawKeypoints(img, keypoints_sift, None)\n",
    "cv2.imshow(\"Image\", img)\n",
    "cv2.waitKey(0)\n",
    "cv2.destroyAllWindows()"
   ]
  },
  {
   "cell_type": "markdown",
   "metadata": {},
   "source": [
    "Coba cek koordinat fiture"
   ]
  },
  {
   "cell_type": "code",
   "execution_count": 4,
   "metadata": {},
   "outputs": [
    {
     "name": "stdout",
     "output_type": "stream",
     "text": [
      "The list of detected keypoints is: [(25.74645233154297, 144.24887084960938), (74.81088256835938, 133.8006591796875), (74.81088256835938, 133.8006591796875), (79.41488647460938, 119.2529296875), (79.41488647460938, 119.2529296875), (114.04247283935547, 136.24484252929688), (114.04247283935547, 136.24484252929688), (188.03060913085938, 133.6559600830078), (188.03060913085938, 133.6559600830078), (228.00958251953125, 136.25221252441406), (228.00958251953125, 136.25221252441406)]\n"
     ]
    }
   ],
   "source": [
    "pts = [k.pt for k in keypoints_sift]\n",
    "print ('The list of detected keypoints is:', pts)"
   ]
  },
  {
   "cell_type": "markdown",
   "metadata": {},
   "source": [
    "K Means Clustering"
   ]
  },
  {
   "cell_type": "code",
   "execution_count": 5,
   "metadata": {},
   "outputs": [],
   "source": [
    "# k_clusters = 3\n",
    "# results = []\n",
    "# algorithms = {}\n",
    "\n",
    "# algorithms['kmeans'] = cluster.KMeans(n_clusters=k_clusters, n_init=200)"
   ]
  },
  {
   "cell_type": "code",
   "execution_count": 15,
   "metadata": {},
   "outputs": [
    {
     "name": "stdout",
     "output_type": "stream",
     "text": [
      "[[ 77.11288452 126.52679443]\n",
      " [208.02009583 134.9540863 ]\n",
      " [ 25.74645233 144.24887085]\n",
      " [114.04247284 136.24484253]]\n"
     ]
    }
   ],
   "source": [
    "# create kmeans object\n",
    "kmeans = KMeans(n_clusters=4)\n",
    "# fit kmeans object to data\n",
    "kmeans.fit(pts)\n",
    "# print location of clusters learned by kmeans object\n",
    "centroid = kmeans.cluster_centers_\n",
    "print(centroid)\n",
    "# save new clusters for chart\n",
    "y_km = kmeans.fit_predict(pts)\n",
    "\n",
    "# plt.scatter(pts[y_km ==0,0], pts[y_km == 0,1], s=100, c='red')\n",
    "# plt.scatter(pts[y_km ==1,0], pts[y_km == 1,1], s=100, c='black')\n",
    "# plt.scatter(pts[y_km ==2,0], pts[y_km == 2,1], s=100, c='blue')\n",
    "# plt.scatter(pts[y_km ==3,0], pts[y_km == 3,1], s=100, c='cyan')"
   ]
  },
  {
   "cell_type": "markdown",
   "metadata": {},
   "source": [
    "Buat Pickle"
   ]
  },
  {
   "cell_type": "code",
   "execution_count": 16,
   "metadata": {},
   "outputs": [],
   "source": [
    "file = open('model_asus.txt','wb')\n",
    "pickle.dump(centroid,file)\n",
    "file.close()"
   ]
  },
  {
   "cell_type": "code",
   "execution_count": null,
   "metadata": {},
   "outputs": [],
   "source": []
  }
 ],
 "metadata": {
  "kernelspec": {
   "display_name": "Python 3",
   "language": "python",
   "name": "python3"
  },
  "language_info": {
   "codemirror_mode": {
    "name": "ipython",
    "version": 3
   },
   "file_extension": ".py",
   "mimetype": "text/x-python",
   "name": "python",
   "nbconvert_exporter": "python",
   "pygments_lexer": "ipython3",
   "version": "3.6.8"
  }
 },
 "nbformat": 4,
 "nbformat_minor": 2
}
