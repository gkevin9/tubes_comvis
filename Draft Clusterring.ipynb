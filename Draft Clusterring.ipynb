{
 "cells": [
  {
   "cell_type": "markdown",
   "metadata": {},
   "source": [
    "source : https://mubaris.com/posts/kmeans-clustering/"
   ]
  },
  {
   "cell_type": "code",
   "execution_count": 1,
   "metadata": {},
   "outputs": [],
   "source": [
    "# Dependencies\n",
    "\n",
    "# import pandas as pd\n",
    "import numpy as np\n",
    "# from sklearn.cluster import KMeans\n",
    "# from sklearn.preprocessing import LabelEncoder\n",
    "# from sklearn.preprocessing import MinMaxScaler\n",
    "# import seaborn as sns\n",
    "import matplotlib.pyplot as plt\n",
    "import cv2\n",
    "from sklearn.cluster import KMeans\n",
    "import pickle\n",
    "import glob\n",
    "from sklearn.neighbors.nearest_centroid import NearestCentroid"
   ]
  },
  {
   "cell_type": "markdown",
   "metadata": {},
   "source": [
    "Create Sift"
   ]
  },
  {
   "cell_type": "code",
   "execution_count": 29,
   "metadata": {},
   "outputs": [],
   "source": [
    "img = cv2.imread(\"image/icon/asus_icon.png\")\n",
    "sift = cv2.xfeatures2d.SIFT_create()"
   ]
  },
  {
   "cell_type": "code",
   "execution_count": 8,
   "metadata": {},
   "outputs": [],
   "source": [
    "def readPhotosDir(directory):\n",
    "    listPhotosDir = glob.glob(directory+\"/*.*\")\n",
    "    return listPhotosDir"
   ]
  },
  {
   "cell_type": "code",
   "execution_count": 3,
   "metadata": {},
   "outputs": [],
   "source": [
    "def openPhotos(PhotosDir):\n",
    "    img = cv2.imread(PhotosDir)\n",
    "    \n",
    "    return img"
   ]
  },
  {
   "cell_type": "markdown",
   "metadata": {},
   "source": [
    "Nyari fitur key point"
   ]
  },
  {
   "cell_type": "code",
   "execution_count": 56,
   "metadata": {},
   "outputs": [
    {
     "name": "stdout",
     "output_type": "stream",
     "text": [
      "[[10.  0.  0. ...  0.  0.  0.]\n",
      " [63. 46.  1. ... 86.  4.  0.]\n",
      " [21.  6.  0. ...  0.  0.  0.]\n",
      " ...\n",
      " [17.  5.  0. ...  2.  3.  2.]\n",
      " [12.  1.  0. ...  0.  0.  3.]\n",
      " [21.  0.  0. ...  1.  2.  6.]]\n"
     ]
    }
   ],
   "source": [
    "keypoints_sift, descriptors = sift.detectAndCompute(img, None)\n",
    "\n",
    "img = cv2.drawKeypoints(img, keypoints_sift, None)\n",
    "print(descriptors)\n",
    "# cv2.imshow(\"Image\", img)\n",
    "# cv2.waitKey(0)\n",
    "# cv2.destroyAllWindows()"
   ]
  },
  {
   "cell_type": "code",
   "execution_count": 4,
   "metadata": {},
   "outputs": [],
   "source": [
    "def findFeature(img):\n",
    "    sift = cv2.xfeatures2d.SIFT_create()\n",
    "    keypoints_sift, descriptors = sift.detectAndCompute(img, None)\n",
    "    \n",
    "    return keypoints_sift, descriptors"
   ]
  },
  {
   "cell_type": "markdown",
   "metadata": {},
   "source": [
    "Coba cek koordinat fiture"
   ]
  },
  {
   "cell_type": "code",
   "execution_count": 24,
   "metadata": {},
   "outputs": [],
   "source": [
    "# pts = [k.pt for k in keypoints_sift]\n",
    "# print ('The list of detected keypoints is:', pts)"
   ]
  },
  {
   "cell_type": "markdown",
   "metadata": {},
   "source": [
    "K Means Clustering"
   ]
  },
  {
   "cell_type": "code",
   "execution_count": 25,
   "metadata": {},
   "outputs": [],
   "source": [
    "# k_clusters = 3\n",
    "# results = []\n",
    "# algorithms = {}\n",
    "\n",
    "# algorithms['kmeans'] = cluster.KMeans(n_clusters=k_clusters, n_init=200)"
   ]
  },
  {
   "cell_type": "code",
   "execution_count": 114,
   "metadata": {},
   "outputs": [
    {
     "name": "stdout",
     "output_type": "stream",
     "text": [
      "11.343746\n",
      "[ 3.812502  23.734697   1.3076897 19.999998 ]\n"
     ]
    }
   ],
   "source": [
    "# create kmeans object\n",
    "kmeans = KMeans(n_clusters=4)\n",
    "# fit kmeans object to data\n",
    "kmeans.fit(descriptors)\n",
    "# print location of clusters learned by kmeans object\n",
    "centroid1 = kmeans.cluster_centers_\n",
    "# save new clusters for chart\n",
    "y_km = kmeans.fit_predict(descriptors)\n",
    "x=centroid1[:,0]\n",
    "print(x[0])\n",
    "print(centroid1[:,1])\n",
    "\n"
   ]
  },
  {
   "cell_type": "code",
   "execution_count": 5,
   "metadata": {},
   "outputs": [],
   "source": [
    "def makeCentroid(descriptors):\n",
    "    kmeans = KMeans(n_clusters=4)\n",
    "    kmeans.fit(descriptors)\n",
    "    centroid = kmeans.cluster_centers_\n",
    "    x=centroid[:,0]\n",
    "    y=centroid[:,1]\n",
    "    \n",
    "    return x,y"
   ]
  },
  {
   "cell_type": "code",
   "execution_count": 6,
   "metadata": {},
   "outputs": [],
   "source": [
    "def takePhotoName(photoDir):\n",
    "    temp = photoDir.split('/')#image/icon/pepsi_icon.png => imaga,icon,pepsi_icon.png\n",
    "    temp = temp[len(temp)-1].split('_')#pepsi_icon.png => pepsi, icon.png\n",
    "    return temp[0]"
   ]
  },
  {
   "cell_type": "code",
   "execution_count": 40,
   "metadata": {},
   "outputs": [],
   "source": [
    "def findFeaturOfListPhoto(listOfDir):\n",
    "    dictOfPhotoFeature = {}\n",
    "    \n",
    "    \n",
    "    for photoDir in listOfDir:\n",
    "        name = takePhotoName(photoDir)\n",
    "        img = openPhotos(photoDir)\n",
    "        keypoint, descriptor = findFeature(img)\n",
    "        \n",
    "#         test\n",
    "        print(name)\n",
    "        coordinate = []\n",
    "        x,y = makeCentroid(descriptor)\n",
    "        coordinate.append(x)\n",
    "        coordinate.append(y)\n",
    "        \n",
    "        dictOfPhotoFeature[name] = coordinate\n",
    "        \n",
    "    return dictOfPhotoFeature"
   ]
  },
  {
   "cell_type": "markdown",
   "metadata": {},
   "source": [
    "<h1>Proses===</h1>"
   ]
  },
  {
   "cell_type": "code",
   "execution_count": 41,
   "metadata": {
    "scrolled": true
   },
   "outputs": [
    {
     "name": "stdout",
     "output_type": "stream",
     "text": [
      "bmwm\n",
      "dell\n",
      "aqua\n",
      "rog\n",
      "renault\n",
      "oppo\n",
      "bmw\n",
      "lenovo\n",
      "ferrari\n",
      "lamborghini\n",
      "hp\n",
      "toyota\n",
      "hokben\n",
      "chevolet\n",
      "suzuki\n",
      "samsung\n",
      "daihatsu\n",
      "alfaromeo\n",
      "toshiba\n",
      "honda\n",
      "mustang\n",
      "xiaomi\n",
      "gokana\n",
      "ford\n",
      "mercedes\n",
      "logitech\n",
      "pepsi\n",
      "starbucks\n",
      "asus\n",
      "acer\n"
     ]
    }
   ],
   "source": [
    "directory = \"image/icon\"\n",
    "\n",
    "listPhotosDir = readPhotosDir(directory)\n",
    "# print(listPhotosDir)\n",
    "dictOfPhotoFeature = findFeaturOfListPhoto(listPhotosDir)"
   ]
  },
  {
   "cell_type": "markdown",
   "metadata": {},
   "source": [
    "Buat Pickle"
   ]
  },
  {
   "cell_type": "code",
   "execution_count": 42,
   "metadata": {},
   "outputs": [],
   "source": [
    "file = open('model.pickle','wb')\n",
    "pickle.dump(dictOfPhotoFeature,file)\n",
    "file.close()"
   ]
  },
  {
   "cell_type": "code",
   "execution_count": 44,
   "metadata": {},
   "outputs": [
    {
     "name": "stdout",
     "output_type": "stream",
     "text": [
      "[array([ 1.4583349, 11.916667 , 15.473684 , 17.599998 ], dtype=float32), array([1.5000007, 5.8333344, 3.2631583, 6.6800013], dtype=float32)]\n"
     ]
    }
   ],
   "source": [
    "print(dictOfPhotoFeature['suzuki'])\n",
    "# print(dictOfPhotoFeature['acer'])"
   ]
  }
 ],
 "metadata": {
  "kernelspec": {
   "display_name": "Python 3",
   "language": "python",
   "name": "python3"
  },
  "language_info": {
   "codemirror_mode": {
    "name": "ipython",
    "version": 3
   },
   "file_extension": ".py",
   "mimetype": "text/x-python",
   "name": "python",
   "nbconvert_exporter": "python",
   "pygments_lexer": "ipython3",
   "version": "3.6.8"
  }
 },
 "nbformat": 4,
 "nbformat_minor": 2
}
