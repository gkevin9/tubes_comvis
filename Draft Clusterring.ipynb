{
 "cells": [
  {
   "cell_type": "code",
   "execution_count": 3,
   "metadata": {},
   "outputs": [],
   "source": [
    "# Dependencies\n",
    "\n",
    "# import pandas as pd\n",
    "import numpy as np\n",
    "# from sklearn.cluster import KMeans\n",
    "# from sklearn.preprocessing import LabelEncoder\n",
    "# from sklearn.preprocessing import MinMaxScaler\n",
    "# import seaborn as sns\n",
    "import matplotlib.pyplot as plt\n",
    "import cv2\n",
    "from sklearn.cluster import KMeans\n",
    "import pickle\n",
    "import glob"
   ]
  },
  {
   "cell_type": "markdown",
   "metadata": {},
   "source": [
    "Create Sift"
   ]
  },
  {
   "cell_type": "code",
   "execution_count": 2,
   "metadata": {},
   "outputs": [],
   "source": [
    "# img = cv2.imread(\"image/icon/asus_icon.png\")\n",
    "# sift = cv2.xfeatures2d.SIFT_create()"
   ]
  },
  {
   "cell_type": "code",
   "execution_count": 19,
   "metadata": {},
   "outputs": [],
   "source": [
    "def readPhotosDir(directory):\n",
    "    listPhotosDir = glob.glob(directory+\"/*.png\")\n",
    "    return listPhotosDir"
   ]
  },
  {
   "cell_type": "code",
   "execution_count": 5,
   "metadata": {},
   "outputs": [],
   "source": [
    "def openPhotos(PhotosDir):\n",
    "    img = cv2.imread(PhotosDir)\n",
    "    \n",
    "    return img"
   ]
  },
  {
   "cell_type": "markdown",
   "metadata": {},
   "source": [
    "Nyari fitur key point"
   ]
  },
  {
   "cell_type": "code",
   "execution_count": 3,
   "metadata": {},
   "outputs": [],
   "source": [
    "# keypoints_sift, descriptors = sift.detectAndCompute(img, None)\n",
    "\n",
    "# img = cv2.drawKeypoints(img, keypoints_sift, None)\n",
    "# cv2.imshow(\"Image\", img)\n",
    "# cv2.waitKey(0)\n",
    "# cv2.destroyAllWindows()"
   ]
  },
  {
   "cell_type": "code",
   "execution_count": 6,
   "metadata": {},
   "outputs": [],
   "source": [
    "def findFeature(img):\n",
    "    sift = cv2.xfeatures2d.SIFT_create()\n",
    "    keypoints_sift, descriptors = sift.detectAndCompute(img, None)\n",
    "    \n",
    "    return keypoints_sift, descriptors"
   ]
  },
  {
   "cell_type": "markdown",
   "metadata": {},
   "source": [
    "Coba cek koordinat fiture"
   ]
  },
  {
   "cell_type": "code",
   "execution_count": 4,
   "metadata": {},
   "outputs": [],
   "source": [
    "# pts = [k.pt for k in keypoints_sift]\n",
    "# print ('The list of detected keypoints is:', pts)"
   ]
  },
  {
   "cell_type": "markdown",
   "metadata": {},
   "source": [
    "K Means Clustering"
   ]
  },
  {
   "cell_type": "code",
   "execution_count": 5,
   "metadata": {},
   "outputs": [],
   "source": [
    "# k_clusters = 3\n",
    "# results = []\n",
    "# algorithms = {}\n",
    "\n",
    "# algorithms['kmeans'] = cluster.KMeans(n_clusters=k_clusters, n_init=200)"
   ]
  },
  {
   "cell_type": "code",
   "execution_count": 7,
   "metadata": {},
   "outputs": [],
   "source": [
    "# create kmeans object\n",
    "kmeans = KMeans(n_clusters=4)\n",
    "# fit kmeans object to data\n",
    "kmeans.fit(descriptors)\n",
    "# print location of clusters learned by kmeans object\n",
    "centroid = kmeans.cluster_centers_\n",
    "# print(centroid)\n",
    "# save new clusters for chart\n",
    "y_km = kmeans.fit_predict(descriptors)\n",
    "\n",
    "# plt.scatter(pts[y_km ==0,0], pts[y_km == 0,1], s=100, c='red')\n",
    "# plt.scatter(pts[y_km ==1,0], pts[y_km == 1,1], s=100, c='black')\n",
    "# plt.scatter(pts[y_km ==2,0], pts[y_km == 2,1], s=100, c='blue')\n",
    "# plt.scatter(pts[y_km ==3,0], pts[y_km == 3,1], s=100, c='cyan')"
   ]
  },
  {
   "cell_type": "code",
   "execution_count": 37,
   "metadata": {},
   "outputs": [],
   "source": [
    "def makeCentroid(descriptors):\n",
    "    kmeans = KMeans(n_clusters=4)\n",
    "    kmeans.fit(descriptors)\n",
    "    centroid = kmeans.cluster_centers_\n",
    "    \n",
    "    return centroid"
   ]
  },
  {
   "cell_type": "code",
   "execution_count": 30,
   "metadata": {},
   "outputs": [],
   "source": [
    "def takePhotoName(photoDir):\n",
    "    temp = photoDir.split('/')#image/icon/pepsi_icon.png => imaga,icon,pepsi_icon.png\n",
    "    temp = temp[len(temp)-1].split('_')#pepsi_icon.png => pepsi, icon.png\n",
    "    return temp[0]"
   ]
  },
  {
   "cell_type": "code",
   "execution_count": 35,
   "metadata": {},
   "outputs": [],
   "source": [
    "def findFeaturOfListPhoto(listOfDir):\n",
    "    dictOfPhotoFeature = {}\n",
    "    \n",
    "    for photoDir in listOfDir:\n",
    "        name = takePhotoName(photoDir)\n",
    "        img = openPhotos(photoDir)\n",
    "        keypoint, descriptor = findFeature(img)\n",
    "        desc = makeCentroid(descriptor)\n",
    "        \n",
    "        dictOfPhotoFeature[name] = desc\n",
    "        \n",
    "    return dictOfPhotoFeature"
   ]
  },
  {
   "cell_type": "code",
   "execution_count": 39,
   "metadata": {},
   "outputs": [],
   "source": [
    "directory = \"image/icon\"\n",
    "\n",
    "listPhotosDir = readPhotosDir(directory)\n",
    "# print(listPhotosDir)\n",
    "dictOfPhotoFeature = findFeaturOfListPhoto(listPhotosDir)"
   ]
  },
  {
   "cell_type": "markdown",
   "metadata": {},
   "source": [
    "Buat Pickle"
   ]
  },
  {
   "cell_type": "code",
   "execution_count": 41,
   "metadata": {},
   "outputs": [],
   "source": [
    "file = open('model.pickle','wb')\n",
    "pickle.dump(dictOfPhotoFeature,file)\n",
    "file.close()"
   ]
  }
 ],
 "metadata": {
  "kernelspec": {
   "display_name": "Python 3",
   "language": "python",
   "name": "python3"
  },
  "language_info": {
   "codemirror_mode": {
    "name": "ipython",
    "version": 3
   },
   "file_extension": ".py",
   "mimetype": "text/x-python",
   "name": "python",
   "nbconvert_exporter": "python",
   "pygments_lexer": "ipython3",
   "version": "3.6.8"
  }
 },
 "nbformat": 4,
 "nbformat_minor": 2
}
