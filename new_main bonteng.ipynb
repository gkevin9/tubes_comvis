{
 "cells": [
  {
   "cell_type": "code",
   "execution_count": 1,
   "metadata": {},
   "outputs": [],
   "source": [
    "import cv2\n",
    "from sklearn.cluster import KMeans\n",
    "import pickle\n",
    "from scipy.spatial import distance\n",
    "import math"
   ]
  },
  {
   "cell_type": "code",
   "execution_count": 2,
   "metadata": {},
   "outputs": [],
   "source": [
    "def findFeature(img):\n",
    "    sift = cv2.xfeatures2d.SIFT_create()\n",
    "    keypoints_sift, descriptors = sift.detectAndCompute(img, None)\n",
    "    \n",
    "    return keypoints_sift, descriptors"
   ]
  },
  {
   "cell_type": "code",
   "execution_count": 3,
   "metadata": {},
   "outputs": [],
   "source": [
    "def openPhoto(photosDir):\n",
    "    img = cv2.imread(photosDir)\n",
    "    \n",
    "    return img"
   ]
  },
  {
   "cell_type": "code",
   "execution_count": 4,
   "metadata": {},
   "outputs": [],
   "source": [
    "#test centroid with euclidean distance\n",
    "def oneToAllCheck(descriptorTest, descriptorDataSet):\n",
    "    maxDistance = 0\n",
    "    name = 'tidak ada'\n",
    "    bf = cv2.BFMatcher()\n",
    "    \n",
    "    for i in descriptorDataSet:\n",
    "        \n",
    "        matches = bf.knnMatch(descriptorTest,descriptorDataSet[i],k=2)\n",
    "        persenan = checkDistance(matches)\n",
    "        if persenan > maxDistance:\n",
    "            print('masuk : ',i, persenan)\n",
    "            maxDistance = persenan\n",
    "            name = i\n",
    "    \n",
    "    print(name, persenan)\n",
    "    \n",
    "    return maxDistance, name"
   ]
  },
  {
   "cell_type": "code",
   "execution_count": 5,
   "metadata": {},
   "outputs": [],
   "source": [
    "def checkDistance(matches):\n",
    "    good = []\n",
    "    for m,n in matches:\n",
    "        if m.distance < 0.5*n.distance:\n",
    "            good.append([m])\n",
    "#     for m in matches:\n",
    "#         if m.distance < 0.75:\n",
    "#             good.append([m])\n",
    "\n",
    "    persenan = len(good)/len(matches)\n",
    "#     print(len(good))\n",
    "#     persenan = 1 - len(good) / (max(len(pic1), len(pic2)))\n",
    "            \n",
    "    return persenan"
   ]
  },
  {
   "cell_type": "markdown",
   "metadata": {},
   "source": [
    "<h1>Load Model from Pickle</h1>"
   ]
  },
  {
   "cell_type": "code",
   "execution_count": 6,
   "metadata": {},
   "outputs": [],
   "source": [
    "pickle_in = open(\"model_bonteng.pickle\",\"rb\")\n",
    "descriptorDataSet = pickle.load(pickle_in)"
   ]
  },
  {
   "cell_type": "markdown",
   "metadata": {},
   "source": [
    "<h1>Precess=======</h1>"
   ]
  },
  {
   "cell_type": "code",
   "execution_count": 9,
   "metadata": {
    "scrolled": false
   },
   "outputs": [
    {
     "name": "stdout",
     "output_type": "stream",
     "text": [
      "masuk :  aqua 0.00023239600278875203\n",
      "masuk :  lamborghini 0.00046479200557750407\n",
      "masuk :  hp 0.006274692075296305\n",
      "hp 0.0\n"
     ]
    }
   ],
   "source": [
    "img = openPhoto(\"test_image/hp.jpg\")\n",
    "keypoints_sift, descriptorTest = findFeature(img)\n",
    "maxDistance, name = oneToAllCheck(descriptorTest, descriptorDataSet)\n",
    "# print(maxDistance, name)"
   ]
  },
  {
   "cell_type": "code",
   "execution_count": 8,
   "metadata": {},
   "outputs": [],
   "source": [
    "# tp = [0,2,2,2,2,1,1,2,2]\n",
    "# fp = [0,1,2,4,4,5,5,4,4]\n",
    "\n",
    "# import matplotlib.pyplot as plt\n",
    "# plt.plot(fp,tp)\n",
    "# plt.title('ROC')\n",
    "# plt.show()"
   ]
  }
 ],
 "metadata": {
  "kernelspec": {
   "display_name": "Python 3",
   "language": "python",
   "name": "python3"
  },
  "language_info": {
   "codemirror_mode": {
    "name": "ipython",
    "version": 3
   },
   "file_extension": ".py",
   "mimetype": "text/x-python",
   "name": "python",
   "nbconvert_exporter": "python",
   "pygments_lexer": "ipython3",
   "version": "3.6.8"
  }
 },
 "nbformat": 4,
 "nbformat_minor": 2
}
