{
 "cells": [
  {
   "cell_type": "code",
   "execution_count": 14,
   "metadata": {},
   "outputs": [],
   "source": [
    "# import numpy as np\n",
    "# import matplotlib.pyplot as plt\n",
    "import cv2\n",
    "from sklearn.cluster import KMeans\n",
    "import pickle\n",
    "from scipy.spatial import distance\n",
    "import math"
   ]
  },
  {
   "cell_type": "code",
   "execution_count": 15,
   "metadata": {},
   "outputs": [],
   "source": [
    "def findFeature(img):\n",
    "    sift = cv2.xfeatures2d.SIFT_create()\n",
    "    keypoints_sift, descriptors = sift.detectAndCompute(img, None)\n",
    "    \n",
    "    return keypoints_sift, descriptors"
   ]
  },
  {
   "cell_type": "code",
   "execution_count": 16,
   "metadata": {},
   "outputs": [],
   "source": [
    "def makeCentroid(descriptors):\n",
    "    kmeans = KMeans(n_clusters=4)\n",
    "    kmeans.fit(descriptors)\n",
    "    centroid = kmeans.cluster_centers_\n",
    "    x=centroid[:,0]\n",
    "    y=centroid[:,1]\n",
    "    \n",
    "    return x,y"
   ]
  },
  {
   "cell_type": "code",
   "execution_count": 17,
   "metadata": {},
   "outputs": [],
   "source": [
    "def openPhoto(photosDir):\n",
    "    img = cv2.imread(photosDir)\n",
    "    \n",
    "    return img"
   ]
  },
  {
   "cell_type": "code",
   "execution_count": 49,
   "metadata": {},
   "outputs": [],
   "source": [
    "#test centroid with euclidean distance\n",
    "def oneToAllCheck(centroidTest, centroidDataSet):\n",
    "    maxDistance = 0\n",
    "    name = 'o'\n",
    "    \n",
    "    for i in centroidDataSet:\n",
    "#         print(len(centroidTest),len(centroidTest[0]))\n",
    "#         print(len(centroidDataSet[i]),len(centroidDataSet[i][0]))\n",
    "        dst = jarak(centroidDataSet[i], centroidTest)\n",
    "#         print(i,len(centroidDataSet[i]),len(centroidDataSet[i][0]))\n",
    "        if maxDistance < dst:\n",
    "            print(name)\n",
    "            maxDistance = dst\n",
    "            name = i\n",
    "    \n",
    "    return maxDistance, name"
   ]
  },
  {
   "cell_type": "markdown",
   "metadata": {},
   "source": [
    "<h1>Load Model from Pickle</h1>"
   ]
  },
  {
   "cell_type": "code",
   "execution_count": 31,
   "metadata": {},
   "outputs": [],
   "source": [
    "pickle_in = open(\"model.pickle\",\"rb\")\n",
    "dictOfPhotoFeature = pickle.load(pickle_in)"
   ]
  },
  {
   "cell_type": "markdown",
   "metadata": {},
   "source": [
    "hitung jarak"
   ]
  },
  {
   "cell_type": "code",
   "execution_count": 47,
   "metadata": {},
   "outputs": [],
   "source": [
    "from scipy.spatial import distance\n",
    "def jarak(p1,p2):\n",
    "#     print(p1[0],p2[0],p1[1],p2[1])\n",
    "    total = 0\n",
    "    for i in range(len(p1[0])):\n",
    "        total = total + (p1[0][i]-p2[0][i])**2\n",
    "        total = total + (p1[1][i]-p2[1][i])**2\n",
    "    distance = math.sqrt(total)\n",
    "\n",
    "    return distance"
   ]
  },
  {
   "cell_type": "markdown",
   "metadata": {},
   "source": [
    "<h1>Precess=======</h1>"
   ]
  },
  {
   "cell_type": "code",
   "execution_count": 50,
   "metadata": {
    "scrolled": true
   },
   "outputs": [
    {
     "name": "stdout",
     "output_type": "stream",
     "text": [
      "o\n",
      "bmwm\n",
      "hp\n",
      "toyota\n",
      "alfaromeo\n"
     ]
    }
   ],
   "source": [
    "img = openPhoto(\"image/asus_laptop.jpg\")\n",
    "keypoints_sift, descriptors = findFeature(img)\n",
    "x,y = makeCentroid(descriptors)\n",
    "coordinateImage = [x,y]\n",
    "maxDistance, name = oneToAllCheck(coordinateImage,dictOfPhotoFeature)\n",
    "print(name)"
   ]
  },
  {
   "cell_type": "code",
   "execution_count": 45,
   "metadata": {},
   "outputs": [
    {
     "name": "stdout",
     "output_type": "stream",
     "text": [
      "[array([13.949999 , 10.516129 ,  5.7272716, 23.124998 ], dtype=float32), array([12.449999,  8.741935, 20.545454,  9.625   ], dtype=float32)]\n",
      "----------\n",
      "[13.949999  10.516129   5.7272716 23.124998 ]\n",
      "----------\n",
      "2 4\n"
     ]
    }
   ],
   "source": [
    "print(dictOfPhotoFeature['acer'])\n",
    "print('-'*10)\n",
    "print(dictOfPhotoFeature['acer'][0])\n",
    "print('-'*10)\n",
    "print(len(dictOfPhotoFeature['acer']),len(dictOfPhotoFeature['acer'][0]))"
   ]
  }
 ],
 "metadata": {
  "kernelspec": {
   "display_name": "Python 3",
   "language": "python",
   "name": "python3"
  },
  "language_info": {
   "codemirror_mode": {
    "name": "ipython",
    "version": 3
   },
   "file_extension": ".py",
   "mimetype": "text/x-python",
   "name": "python",
   "nbconvert_exporter": "python",
   "pygments_lexer": "ipython3",
   "version": "3.6.8"
  }
 },
 "nbformat": 4,
 "nbformat_minor": 2
}
