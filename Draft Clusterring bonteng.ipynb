{
 "cells": [
  {
   "cell_type": "code",
   "execution_count": 1,
   "metadata": {},
   "outputs": [],
   "source": [
    "# import numpy as np\n",
    "# import matplotlib.pyplot as plt\n",
    "import cv2\n",
    "import pickle\n",
    "import glob"
   ]
  },
  {
   "cell_type": "code",
   "execution_count": 2,
   "metadata": {},
   "outputs": [],
   "source": [
    "def readPhotosDir(directory):\n",
    "    listPhotosDir = glob.glob(directory+\"/*.*\")\n",
    "    return listPhotosDir"
   ]
  },
  {
   "cell_type": "code",
   "execution_count": 3,
   "metadata": {},
   "outputs": [],
   "source": [
    "def openPhotos(PhotosDir):\n",
    "    img = cv2.imread(PhotosDir)\n",
    "    \n",
    "    return img"
   ]
  },
  {
   "cell_type": "code",
   "execution_count": 4,
   "metadata": {},
   "outputs": [],
   "source": [
    "def findFeature(img):\n",
    "    sift = cv2.xfeatures2d.SIFT_create()\n",
    "    keypoints_sift, descriptors = sift.detectAndCompute(img, None)\n",
    "    \n",
    "    return keypoints_sift, descriptors"
   ]
  },
  {
   "cell_type": "code",
   "execution_count": 5,
   "metadata": {},
   "outputs": [],
   "source": [
    "def takePhotoName(photoDir):\n",
    "    temp = photoDir.split('/')#image/icon/pepsi_icon.png => imaga,icon,pepsi_icon.png\n",
    "    temp = temp[len(temp)-1].split('_')#pepsi_icon.png => pepsi, icon.png\n",
    "    return temp[0]"
   ]
  },
  {
   "cell_type": "code",
   "execution_count": 6,
   "metadata": {},
   "outputs": [],
   "source": [
    "def findFeaturOfListPhoto(listOfDir):\n",
    "    dictOfPhotoFeature = {}\n",
    "    \n",
    "    \n",
    "    for photoDir in listOfDir:\n",
    "        name = takePhotoName(photoDir)\n",
    "        img = openPhotos(photoDir)\n",
    "        keypoint, descriptor = findFeature(img)\n",
    "#         test\n",
    "        print(name)\n",
    "        \n",
    "        dictOfPhotoFeature[name] = descriptor\n",
    "        \n",
    "    return dictOfPhotoFeature"
   ]
  },
  {
   "cell_type": "markdown",
   "metadata": {},
   "source": [
    "<h1>Proses===</h1>"
   ]
  },
  {
   "cell_type": "code",
   "execution_count": 7,
   "metadata": {
    "scrolled": true
   },
   "outputs": [
    {
     "name": "stdout",
     "output_type": "stream",
     "text": [
      "bmwm\n",
      "dell\n",
      "aqua\n",
      "rog\n",
      "renault\n",
      "oppo\n",
      "bmw\n",
      "lenovo\n",
      "ferrari\n",
      "lamborghini\n",
      "hp\n",
      "toyota\n",
      "hokben\n",
      "chevolet\n",
      "suzuki\n",
      "samsung\n",
      "daihatsu\n",
      "alfaromeo\n",
      "toshiba\n",
      "honda\n",
      "mustang\n",
      "xiaomi\n",
      "gokana\n",
      "ford\n",
      "mercedes\n",
      "logitech\n",
      "pepsi\n",
      "starbucks\n",
      "asus\n",
      "acer\n"
     ]
    }
   ],
   "source": [
    "directory = \"image/icon\"\n",
    "\n",
    "listPhotosDir = readPhotosDir(directory)\n",
    "# print(listPhotosDir)\n",
    "dictOfPhotoFeature = findFeaturOfListPhoto(listPhotosDir)"
   ]
  },
  {
   "cell_type": "markdown",
   "metadata": {},
   "source": [
    "Buat Pickle"
   ]
  },
  {
   "cell_type": "code",
   "execution_count": 8,
   "metadata": {},
   "outputs": [],
   "source": [
    "file = open('model_bonteng.pickle','wb')\n",
    "pickle.dump(dictOfPhotoFeature,file)\n",
    "file.close()"
   ]
  }
 ],
 "metadata": {
  "kernelspec": {
   "display_name": "Python 3",
   "language": "python",
   "name": "python3"
  },
  "language_info": {
   "codemirror_mode": {
    "name": "ipython",
    "version": 3
   },
   "file_extension": ".py",
   "mimetype": "text/x-python",
   "name": "python",
   "nbconvert_exporter": "python",
   "pygments_lexer": "ipython3",
   "version": "3.6.8"
  }
 },
 "nbformat": 4,
 "nbformat_minor": 2
}
